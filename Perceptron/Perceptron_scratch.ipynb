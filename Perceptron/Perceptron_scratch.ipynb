{
 "cells": [
  {
   "cell_type": "code",
   "execution_count": 3,
   "id": "fc60c6d7-3026-4c37-881b-154b4aef5960",
   "metadata": {},
   "outputs": [],
   "source": [
    "import numpy as np\n",
    "import pandas as pd\n",
    "import matplotlib.pyplot as plt"
   ]
  },
  {
   "cell_type": "code",
   "execution_count": 4,
   "id": "6e02f389-9739-454a-b3b8-60adedd7618c",
   "metadata": {},
   "outputs": [],
   "source": [
    "from sklearn.datasets import make_classification"
   ]
  },
  {
   "cell_type": "code",
   "execution_count": 50,
   "id": "4370d2b2-a40b-41f2-bfdc-8880420a3777",
   "metadata": {},
   "outputs": [],
   "source": [
    "+X,y= make_classification(n_samples=100, n_features=2,\n",
    "                         n_informative=2, n_redundant=0, \n",
    "                         n_repeated=0, n_classes=2, n_clusters_per_class=1,random_state=333)"
   ]
  },
  {
   "cell_type": "code",
   "execution_count": 51,
   "id": "48d498b9-bb33-45a4-a65c-298e86000ca7",
   "metadata": {},
   "outputs": [
    {
     "data": {
      "image/png": "[encoded data removed]",
      "text/plain": [
       "<Figure size 640x480 with 1 Axes>"
      ]
     },
     "metadata": {},
     "output_type": "display_data"
    }
   ],
   "source": [
    "plt.scatter(X[:,0],X[:,1],c=y,cmap=\"winter\")\n",
    "plt.xlabel(\"col1\")\n",
    "plt.ylabel(\"col2\")\n",
    "plt.title(\"Scatter plot\")\n",
    "plt.show()"
   ]
  },
  {
   "cell_type": "code",
   "execution_count": 52,
   "id": "0a32d5a5-9c4a-4f32-89d4-471a8b32a7ff",
   "metadata": {},
   "outputs": [
    {
     "data": {
      "text/html": [
       "<div>\n",
       "<style scoped>\n",
       "    .dataframe tbody tr th:only-of-type {\n",
       "        vertical-align: middle;\n",
       "    }\n",
       "\n",
       "    .dataframe tbody tr th {\n",
       "        vertical-align: top;\n",
       "    }\n",
       "\n",
       "    .dataframe thead th {\n",
       "        text-align: right;\n",
       "    }\n",
       "</style>\n",
       "<table border=\"1\" class=\"dataframe\">\n",
       "  <thead>\n",
       "    <tr style=\"text-align: right;\">\n",
       "      <th></th>\n",
       "      <th>col1</th>\n",
       "      <th>col2</th>\n",
       "      <th>target</th>\n",
       "    </tr>\n",
       "  </thead>\n",
       "  <tbody>\n",
       "    <tr>\n",
       "      <th>0</th>\n",
       "      <td>-0.539238</td>\n",
       "      <td>1.294174</td>\n",
       "      <td>1</td>\n",
       "    </tr>\n",
       "    <tr>\n",
       "      <th>1</th>\n",
       "      <td>-1.707163</td>\n",
       "      <td>0.716009</td>\n",
       "      <td>1</td>\n",
       "    </tr>\n",
       "    <tr>\n",
       "      <th>2</th>\n",
       "      <td>-1.804838</td>\n",
       "      <td>0.792522</td>\n",
       "      <td>1</td>\n",
       "    </tr>\n",
       "    <tr>\n",
       "      <th>3</th>\n",
       "      <td>-0.595480</td>\n",
       "      <td>1.068427</td>\n",
       "      <td>1</td>\n",
       "    </tr>\n",
       "    <tr>\n",
       "      <th>4</th>\n",
       "      <td>0.054588</td>\n",
       "      <td>1.440653</td>\n",
       "      <td>1</td>\n",
       "    </tr>\n",
       "    <tr>\n",
       "      <th>5</th>\n",
       "      <td>-1.780287</td>\n",
       "      <td>0.772570</td>\n",
       "      <td>1</td>\n",
       "    </tr>\n",
       "    <tr>\n",
       "      <th>6</th>\n",
       "      <td>0.229523</td>\n",
       "      <td>-0.065169</td>\n",
       "      <td>0</td>\n",
       "    </tr>\n",
       "    <tr>\n",
       "      <th>7</th>\n",
       "      <td>-0.403456</td>\n",
       "      <td>-0.517885</td>\n",
       "      <td>0</td>\n",
       "    </tr>\n",
       "    <tr>\n",
       "      <th>8</th>\n",
       "      <td>-0.872240</td>\n",
       "      <td>1.040868</td>\n",
       "      <td>1</td>\n",
       "    </tr>\n",
       "    <tr>\n",
       "      <th>9</th>\n",
       "      <td>0.214607</td>\n",
       "      <td>1.292418</td>\n",
       "      <td>1</td>\n",
       "    </tr>\n",
       "  </tbody>\n",
       "</table>\n",
       "</div>"
      ],
      "text/plain": [
       "       col1      col2  target\n",
       "0 -0.539238  1.294174       1\n",
       "1 -1.707163  0.716009       1\n",
       "2 -1.804838  0.792522       1\n",
       "3 -0.595480  1.068427       1\n",
       "4  0.054588  1.440653       1\n",
       "5 -1.780287  0.772570       1\n",
       "6  0.229523 -0.065169       0\n",
       "7 -0.403456 -0.517885       0\n",
       "8 -0.872240  1.040868       1\n",
       "9  0.214607  1.292418       1"
      ]
     },
     "execution_count": 52,
     "metadata": {},
     "output_type": "execute_result"
    }
   ],
   "source": [
    "df = pd.DataFrame(X,columns=[\"col1\",\"col2\"])\n",
    "df['target'] = y \n",
    "df.head(10)"
   ]
  },
  {
   "cell_type": "markdown",
   "id": "58e532d6-db00-4e39-9083-01bd91ddaf7e",
   "metadata": {},
   "source": [
    "### Start with a random point and draw a line\n",
    "### pick a point based on that point move that line by subtracting or adding based on point in positive and negative side.\n",
    "-----\n",
    "### W(n) = w(old) + learning_rate*(y(i)-y(hat))*x(i)"
   ]
  },
  {
   "cell_type": "code",
   "execution_count": 53,
   "id": "1063c543-1fd6-44f5-b670-4d4c4368f06b",
   "metadata": {},
   "outputs": [],
   "source": [
    "import random"
   ]
  },
  {
   "cell_type": "code",
   "execution_count": 54,
   "id": "1f1ad37c-82a2-40a2-9e42-ce7ceb7838f3",
   "metadata": {},
   "outputs": [
    {
     "data": {
      "text/plain": [
       "array([1, 1])"
      ]
     },
     "execution_count": 54,
     "metadata": {},
     "output_type": "execute_result"
    }
   ],
   "source": [
    "X.shape\n",
    "np.ones(X.shape[1],dtype=\"int\")"
   ]
  },
  {
   "cell_type": "code",
   "execution_count": 93,
   "id": "0bcf1513-a93c-4c55-adfe-9a3d417074cc",
   "metadata": {},
   "outputs": [],
   "source": [
    "class my_perceptron:\n",
    "    def __init__(self,epochs=2000,lr=0.1):\n",
    "        self.epochs = epochs\n",
    "        self.lr = lr\n",
    "\n",
    "    def step(self,x):\n",
    "        if x>0:\n",
    "            return 1\n",
    "        else:\n",
    "            return 0\n",
    "\n",
    "    def return_coef(self,X,y):\n",
    "        X = np.insert(X,0,1,axis=1) \n",
    "        weights = np.ones(X.shape[1])\n",
    "        for i in range(self.epochs):          \n",
    "            random_point = random.randint(1,X.shape[0]-1) \n",
    "            y_hat = self.step(np.dot(X[random_point],weights))\n",
    "            weights = weights + self.lr * (y[random_point]-y_hat) * X[random_point]\n",
    "            \n",
    "        return weights[0],weights[1:]\n",
    "        "
   ]
  },
  {
   "cell_type": "code",
   "execution_count": 94,
   "id": "aa2acdf9-355d-48d6-bb59-dfd907c95a5b",
   "metadata": {},
   "outputs": [
    {
     "name": "stdout",
     "output_type": "stream",
     "text": [
      "-0.6999999999999998\n",
      "[-0.21476565  1.20764632]\n"
     ]
    }
   ],
   "source": [
    "per = my_perceptron()\n",
    "intercept , coef = per.return_coef(X,y)\n",
    "print(intercept)\n",
    "print(coef)"
   ]
  },
  {
   "cell_type": "markdown",
   "id": "40c9d8df-9dc1-4028-b5dc-5ce8e4f4ad73",
   "metadata": {},
   "source": [
    "-----\n",
    "##### A = coef[0]\n",
    "##### B = coef[1]\n",
    "##### C = intercept\n",
    "##### formula    slope = -a /b \n",
    "#####           intercept = -c/b"
   ]
  },
  {
   "cell_type": "code",
   "execution_count": 95,
   "id": "005e9290-bf02-4450-91dc-b9d8b5209dbc",
   "metadata": {},
   "outputs": [],
   "source": [
    "slope = - (coef[0]/coef[1])\n",
    "c = - (intercept/coef[1])"
   ]
  },
  {
   "cell_type": "code",
   "execution_count": 96,
   "id": "dbc8dce8-71bb-41da-bdec-f8104c4615dc",
   "metadata": {},
   "outputs": [
    {
     "name": "stdout",
     "output_type": "stream",
     "text": [
      "0.1778381976300592\n",
      "0.5796399045901133\n"
     ]
    }
   ],
   "source": [
    "print(slope)\n",
    "print(c)"
   ]
  },
  {
   "cell_type": "code",
   "execution_count": 97,
   "id": "d9cec8e1-5f57-4a94-8d08-3cef0eb6c77b",
   "metadata": {},
   "outputs": [],
   "source": [
    "x_input = np.linspace(-2,2,100)\n",
    "y_input = slope * x_input + c"
   ]
  },
  {
   "cell_type": "code",
   "execution_count": 98,
   "id": "dfb032c2-9a7d-4b5d-acca-b649f28b260c",
   "metadata": {},
   "outputs": [
    {
     "data": {
      "text/plain": [
       "(-2.0, 2.0)"
      ]
     },
     "execution_count": 98,
     "metadata": {},
     "output_type": "execute_result"
    },
    {
     "data": {
      "image/png": "[encoded data removed]",
      "text/plain": [
       "<Figure size 640x480 with 1 Axes>"
      ]
     },
     "metadata": {},
     "output_type": "display_data"
    }
   ],
   "source": [
    "plt.scatter(X[:,0],X[:,1],c=y,cmap=\"winter\")\n",
    "plt.plot(x_input,y_input)\n",
    "plt.ylim(-2,2)\n",
    "plt.xlim(-2,2)"
   ]
  },
  {
   "cell_type": "code",
   "execution_count": null,
   "id": "c8fa3c9c-4a18-40e9-ac5c-bbc6b93bfa3d",
   "metadata": {},
   "outputs": [],
   "source": []
  },
  {
   "cell_type": "code",
   "execution_count": null,
   "id": "95d6bf2b-5ca6-4b59-baf0-5b94c3927791",
   "metadata": {},
   "outputs": [],
   "source": []
  }
 ],
 "metadata": {
  "kernelspec": {
   "display_name": "Python 3 (ipykernel)",
   "language": "python",
   "name": "python3"
  },
  "language_info": {
   "codemirror_mode": {
    "name": "ipython",
    "version": 3
   },
   "file_extension": ".py",
   "mimetype": "text/x-python",
   "name": "python",
   "nbconvert_exporter": "python",
   "pygments_lexer": "ipython3",
   "version": "3.12.3"
  }
 },
 "nbformat": 4,
 "nbformat_minor": 5
}
