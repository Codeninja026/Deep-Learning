{
 "cells": [
  {
   "cell_type": "code",
   "execution_count": 135,
   "id": "5d6478b5-884e-4a17-a455-96f961b281ea",
   "metadata": {},
   "outputs": [],
   "source": [
    "import numpy as np\n",
    "import pandas as pd"
   ]
  },
  {
   "cell_type": "code",
   "execution_count": 136,
   "id": "9652e0ed-e8ab-400a-a606-f03c6b93567f",
   "metadata": {},
   "outputs": [],
   "source": [
    "df = pd.DataFrame([[9,9,5],[8,10,6],[7,11,7],[7,12,8]],columns=['cgpa','score','package'])"
   ]
  },
  {
   "cell_type": "code",
   "execution_count": 137,
   "id": "331364a9-ad03-428b-916c-f1a3f13cd76c",
   "metadata": {},
   "outputs": [
    {
     "data": {
      "text/html": [
       "<div>\n",
       "<style scoped>\n",
       "    .dataframe tbody tr th:only-of-type {\n",
       "        vertical-align: middle;\n",
       "    }\n",
       "\n",
       "    .dataframe tbody tr th {\n",
       "        vertical-align: top;\n",
       "    }\n",
       "\n",
       "    .dataframe thead th {\n",
       "        text-align: right;\n",
       "    }\n",
       "</style>\n",
       "<table border=\"1\" class=\"dataframe\">\n",
       "  <thead>\n",
       "    <tr style=\"text-align: right;\">\n",
       "      <th></th>\n",
       "      <th>cgpa</th>\n",
       "      <th>score</th>\n",
       "      <th>package</th>\n",
       "    </tr>\n",
       "  </thead>\n",
       "  <tbody>\n",
       "    <tr>\n",
       "      <th>0</th>\n",
       "      <td>9</td>\n",
       "      <td>9</td>\n",
       "      <td>5</td>\n",
       "    </tr>\n",
       "    <tr>\n",
       "      <th>1</th>\n",
       "      <td>8</td>\n",
       "      <td>10</td>\n",
       "      <td>6</td>\n",
       "    </tr>\n",
       "    <tr>\n",
       "      <th>2</th>\n",
       "      <td>7</td>\n",
       "      <td>11</td>\n",
       "      <td>7</td>\n",
       "    </tr>\n",
       "    <tr>\n",
       "      <th>3</th>\n",
       "      <td>7</td>\n",
       "      <td>12</td>\n",
       "      <td>8</td>\n",
       "    </tr>\n",
       "  </tbody>\n",
       "</table>\n",
       "</div>"
      ],
      "text/plain": [
       "   cgpa  score  package\n",
       "0     9      9        5\n",
       "1     8     10        6\n",
       "2     7     11        7\n",
       "3     7     12        8"
      ]
     },
     "execution_count": 137,
     "metadata": {},
     "output_type": "execute_result"
    }
   ],
   "source": [
    "df"
   ]
  },
  {
   "cell_type": "code",
   "execution_count": 138,
   "id": "eb962293-4f6b-4e0d-ada3-586c329bdce6",
   "metadata": {},
   "outputs": [],
   "source": [
    "def init(dims):\n",
    "    np.random.seed(4)\n",
    "    params = {}\n",
    "    l = len(dims)\n",
    "\n",
    "    for i in range(1,l):\n",
    "        params['w'+str(i)]= np.ones((dims[i-1],dims[i]))*0.1\n",
    "        params['b'+str(i)] = np.zeros((dims[i],1))\n",
    "\n",
    "    return params"
   ]
  },
  {
   "cell_type": "code",
   "execution_count": 139,
   "id": "288ec919-fab3-443d-b919-8a63f47cb432",
   "metadata": {},
   "outputs": [
    {
     "name": "stdout",
     "output_type": "stream",
     "text": [
      "{'w1': array([[0.1, 0.1],\n",
      "       [0.1, 0.1],\n",
      "       [0.1, 0.1]]), 'b1': array([[0.],\n",
      "       [0.]]), 'w2': array([[0.1],\n",
      "       [0.1]]), 'b2': array([[0.]])}\n"
     ]
    }
   ],
   "source": [
    "print(init([3,2,1]))"
   ]
  },
  {
   "cell_type": "code",
   "execution_count": 140,
   "id": "f26b29a8-ecb4-4eda-9051-f92c7bcf9e05",
   "metadata": {},
   "outputs": [],
   "source": [
    "def lin_forw(A_prev,w,b):\n",
    "    z = np.dot(w.T,A_prev)+b\n",
    "    return z\n",
    "def L_layer_forward(X,params):\n",
    "    A=X\n",
    "    L = len(params)//2\n",
    "\n",
    "    for l in range(1,L+1):\n",
    "        A_prev = A\n",
    "        w1 = params['w'+str(l)]\n",
    "        b1 = params['b'+str(l)]\n",
    "\n",
    "        print(f\"A{str(l-1)} : {A_prev}\")\n",
    "        print(f\"W{str(l)} : {w1}\")\n",
    "        print(f\"b{str(l)} : {b1}\")\n",
    "        print(\"----\"*15)\n",
    "\n",
    "        A = lin_forw(A_prev,w1,b1)\n",
    "        print(f\"A{str(l)} : {A}\")\n",
    "        print(\"~~~\"*30)\n",
    "\n",
    "    return A,A_prev\n",
    "    "
   ]
  },
  {
   "cell_type": "code",
   "execution_count": 141,
   "id": "1d45f823-bb06-40ee-9b1b-06781ad4ed2d",
   "metadata": {},
   "outputs": [
    {
     "name": "stdout",
     "output_type": "stream",
     "text": [
      "[[9]\n",
      " [9]]\n",
      "5\n"
     ]
    }
   ],
   "source": [
    "X = df[['cgpa','score']].values[0].reshape(2,1)\n",
    "y = df['package'].values[0]\n",
    "print(X)\n",
    "print(y)"
   ]
  },
  {
   "cell_type": "code",
   "execution_count": 142,
   "id": "4f366973-7cf9-4ae2-ad22-4f277786f2b7",
   "metadata": {},
   "outputs": [
    {
     "name": "stdout",
     "output_type": "stream",
     "text": [
      "{'w1': array([[0.1, 0.1],\n",
      "       [0.1, 0.1]]), 'b1': array([[0.],\n",
      "       [0.]]), 'w2': array([[0.1],\n",
      "       [0.1]]), 'b2': array([[0.]])}\n"
     ]
    }
   ],
   "source": [
    "parameters = init([2,2,1])\n",
    "print(parameters)"
   ]
  },
  {
   "cell_type": "code",
   "execution_count": 143,
   "id": "1a6405d6-8500-420a-941a-2d8404a246d3",
   "metadata": {},
   "outputs": [
    {
     "name": "stdout",
     "output_type": "stream",
     "text": [
      "A0 : [[9]\n",
      " [9]]\n",
      "W1 : [[0.1 0.1]\n",
      " [0.1 0.1]]\n",
      "b1 : [[0.]\n",
      " [0.]]\n",
      "------------------------------------------------------------\n",
      "A1 : [[1.8]\n",
      " [1.8]]\n",
      "~~~~~~~~~~~~~~~~~~~~~~~~~~~~~~~~~~~~~~~~~~~~~~~~~~~~~~~~~~~~~~~~~~~~~~~~~~~~~~~~~~~~~~~~~~\n",
      "A1 : [[1.8]\n",
      " [1.8]]\n",
      "W2 : [[0.1]\n",
      " [0.1]]\n",
      "b2 : [[0.]]\n",
      "------------------------------------------------------------\n",
      "A2 : [[0.36]]\n",
      "~~~~~~~~~~~~~~~~~~~~~~~~~~~~~~~~~~~~~~~~~~~~~~~~~~~~~~~~~~~~~~~~~~~~~~~~~~~~~~~~~~~~~~~~~~\n"
     ]
    },
    {
     "data": {
      "text/plain": [
       "(array([[0.36]]),\n",
       " array([[1.8],\n",
       "        [1.8]]))"
      ]
     },
     "execution_count": 143,
     "metadata": {},
     "output_type": "execute_result"
    }
   ],
   "source": [
    "L_layer_forward(X,parameters)"
   ]
  },
  {
   "cell_type": "code",
   "execution_count": 144,
   "id": "9827d3a0-eac0-414b-a51c-17a60674c411",
   "metadata": {},
   "outputs": [
    {
     "data": {
      "text/plain": [
       "21.902399999999997"
      ]
     },
     "execution_count": 144,
     "metadata": {},
     "output_type": "execute_result"
    }
   ],
   "source": [
    "#loss - (y-y_hat)^square\n",
    "(y - 0.32)**2"
   ]
  },
  {
   "cell_type": "code",
   "execution_count": 145,
   "id": "b0f9e2de-8379-4056-89b2-dc180e0545a4",
   "metadata": {},
   "outputs": [
    {
     "data": {
      "text/plain": [
       "0.1"
      ]
     },
     "execution_count": 145,
     "metadata": {},
     "output_type": "execute_result"
    }
   ],
   "source": [
    "parameters['w2'][1][0]"
   ]
  },
  {
   "cell_type": "markdown",
   "id": "88d651d3-62e1-4e6d-8af8-535f5ca725ce",
   "metadata": {},
   "source": [
    "##### {'w1':\n",
    "##### array([[0.1,0.1],\n",
    "##### [0.1, 0.1]]),\n",
    "##### ---------------\n",
    "##### 'b1': array([[0.],\n",
    "#####  [0.]]), \n",
    "##### --------------\n",
    "##### 'w2': \n",
    "##### array([[0.1,\n",
    "#####  0.1]]), \n",
    "##### --------------\n",
    "#####  'b2': array([[0.]])}"
   ]
  },
  {
   "cell_type": "code",
   "execution_count": 146,
   "id": "31142954-6ca1-4c0d-8b3b-37a46c432afd",
   "metadata": {},
   "outputs": [],
   "source": [
    "# - x - = + (in formula of gd,That's why we add)\n",
    "def upd_params(params,y,y_hat,A1,x,lr=0.001):\n",
    "    params['w1'][0][0] = params['w1'][0][0] + (lr * 2 * (y-y_hat) * params['w2'][0][0]* x[0][0])\n",
    "    params['w1'][0][1] = params['w1'][0][1] + (lr * 2 * (y-y_hat) * params['w2'][0][0]* x[1][0])\n",
    "    params['b1'][0][0] = params['b1'][0][0] + (lr * 2 * (y-y_hat) * params['w2'][0][0])\n",
    "\n",
    "    params['w1'][1][0] = params['w1'][1][0] + (lr * 2 * (y-y_hat) * params['w2'][1][0]* x[0][0])\n",
    "    params['w1'][1][1] = params['w1'][1][1] + (lr * 2 * (y-y_hat) * params['w2'][1][0]* x[1][0])\n",
    "    params['b1'][1][0] = params['b1'][1][0] + (lr * 2 * (y-y_hat) * params['w2'][1][0])\n",
    "\n",
    "    params['w2'][0][0]= params['w2'][0][0] + (lr * 2 * (y-y_hat) * A1[0][0])\n",
    "    params['w2'][1][0]= params['w2'][1][0] + (lr * 2 * (y-y_hat) * A1[1][0])\n",
    "    params['b2'][0][0]= params['b2'][0][0] +(lr * 2 * (y-y_hat))\n",
    "    "
   ]
  },
  {
   "cell_type": "code",
   "execution_count": 147,
   "id": "b7653cf3-4e9d-4bba-a80f-57cc4c2b4a8b",
   "metadata": {},
   "outputs": [
    {
     "name": "stdout",
     "output_type": "stream",
     "text": [
      "X: [[9]\n",
      " [9]]\n",
      "y: 5\n",
      "Parameters: {'w1': array([[0.1, 0.1],\n",
      "       [0.1, 0.1]]), 'b1': array([[0.],\n",
      "       [0.]]), 'w2': array([[0.1],\n",
      "       [0.1]]), 'b2': array([[0.]])}\n"
     ]
    }
   ],
   "source": [
    "print(f\"X: {X}\")\n",
    "print(f\"y: {y}\")\n",
    "print(f\"Parameters: {parameters}\")"
   ]
  },
  {
   "cell_type": "code",
   "execution_count": 148,
   "id": "925b6568-f358-4295-adc8-7670f53147a0",
   "metadata": {},
   "outputs": [
    {
     "name": "stdout",
     "output_type": "stream",
     "text": [
      "A0 : [[9]\n",
      " [9]]\n",
      "W1 : [[0.1 0.1]\n",
      " [0.1 0.1]]\n",
      "b1 : [[0.]\n",
      " [0.]]\n",
      "------------------------------------------------------------\n",
      "A1 : [[1.8]\n",
      " [1.8]]\n",
      "~~~~~~~~~~~~~~~~~~~~~~~~~~~~~~~~~~~~~~~~~~~~~~~~~~~~~~~~~~~~~~~~~~~~~~~~~~~~~~~~~~~~~~~~~~\n",
      "A1 : [[1.8]\n",
      " [1.8]]\n",
      "W2 : [[0.1]\n",
      " [0.1]]\n",
      "b2 : [[0.]]\n",
      "------------------------------------------------------------\n",
      "A2 : [[0.36]]\n",
      "~~~~~~~~~~~~~~~~~~~~~~~~~~~~~~~~~~~~~~~~~~~~~~~~~~~~~~~~~~~~~~~~~~~~~~~~~~~~~~~~~~~~~~~~~~\n",
      "0.36000000000000004\n",
      "A1 is : [[1.8]\n",
      " [1.8]]\n"
     ]
    }
   ],
   "source": [
    "y_hat,A1 = L_layer_forward(X,parameters)\n",
    "y_hat = y_hat[0][0]\n",
    "print(y_hat)\n",
    "print(f\"A1 is : {A1}\")"
   ]
  },
  {
   "cell_type": "code",
   "execution_count": 149,
   "id": "83f68901-6080-4990-a049-da9d711c81b0",
   "metadata": {},
   "outputs": [],
   "source": [
    "upd_params(parameters,y,y_hat,A1,X)"
   ]
  },
  {
   "cell_type": "code",
   "execution_count": 150,
   "id": "38063ae1-fd41-4e8d-8ce9-12597aa8926b",
   "metadata": {},
   "outputs": [
    {
     "name": "stdout",
     "output_type": "stream",
     "text": [
      "Parameters: {'w1': array([[0.108352, 0.108352],\n",
      "       [0.108352, 0.108352]]), 'b1': array([[0.000928],\n",
      "       [0.000928]]), 'w2': array([[0.116704],\n",
      "       [0.116704]]), 'b2': array([[0.00928]])}\n"
     ]
    }
   ],
   "source": [
    "print(f\"Parameters: {parameters}\")"
   ]
  },
  {
   "cell_type": "code",
   "execution_count": 151,
   "id": "45d901ba-16e4-465b-849f-4cb1cbc8f873",
   "metadata": {},
   "outputs": [
    {
     "name": "stdout",
     "output_type": "stream",
     "text": [
      "A0 : [[ 8]\n",
      " [10]]\n",
      "W1 : [[0.108352 0.108352]\n",
      " [0.108352 0.108352]]\n",
      "b1 : [[0.000928]\n",
      " [0.000928]]\n",
      "------------------------------------------------------------\n",
      "A1 : [[1.951264]\n",
      " [1.951264]]\n",
      "~~~~~~~~~~~~~~~~~~~~~~~~~~~~~~~~~~~~~~~~~~~~~~~~~~~~~~~~~~~~~~~~~~~~~~~~~~~~~~~~~~~~~~~~~~\n",
      "A1 : [[1.951264]\n",
      " [1.951264]]\n",
      "W2 : [[0.116704]\n",
      " [0.116704]]\n",
      "b2 : [[0.00928]]\n",
      "------------------------------------------------------------\n",
      "A2 : [[0.46472063]]\n",
      "~~~~~~~~~~~~~~~~~~~~~~~~~~~~~~~~~~~~~~~~~~~~~~~~~~~~~~~~~~~~~~~~~~~~~~~~~~~~~~~~~~~~~~~~~~\n",
      "0.46472062771200007\n",
      "A1 is : [[1.951264]\n",
      " [1.951264]]\n"
     ]
    }
   ],
   "source": [
    "X = df[['cgpa','score']].values[1].reshape(2,1)\n",
    "y = df['package'].values[1]\n",
    "\n",
    "y_hat,A1 = L_layer_forward(X,parameters)\n",
    "y_hat = y_hat[0][0]\n",
    "print(y_hat)\n",
    "print(f\"A1 is : {A1}\")"
   ]
  },
  {
   "cell_type": "code",
   "execution_count": 152,
   "id": "69e2aee5-3440-49fd-a325-dc76e2958b23",
   "metadata": {},
   "outputs": [],
   "source": [
    "upd_params(parameters,y,y_hat,A1,X)"
   ]
  },
  {
   "cell_type": "code",
   "execution_count": 153,
   "id": "118fd13b-158e-4a88-9b20-5ffff38135d6",
   "metadata": {},
   "outputs": [
    {
     "name": "stdout",
     "output_type": "stream",
     "text": [
      "Parameters: {'w1': array([[0.11868783, 0.12127178],\n",
      "       [0.11868783, 0.12127178]]), 'b1': array([[0.00221998],\n",
      "       [0.00221998]]), 'w2': array([[0.13830558],\n",
      "       [0.13830558]]), 'b2': array([[0.02035056]])}\n"
     ]
    }
   ],
   "source": [
    "print(f\"Parameters: {parameters}\")"
   ]
  },
  {
   "cell_type": "code",
   "execution_count": 154,
   "id": "7bcbf62e-a3af-4a5a-a2d2-3ab9acebaa52",
   "metadata": {},
   "outputs": [
    {
     "name": "stdout",
     "output_type": "stream",
     "text": [
      "A0 : [[ 7]\n",
      " [11]]\n",
      "W1 : [[0.11868783 0.12127178]\n",
      " [0.11868783 0.12127178]]\n",
      "b1 : [[0.00221998]\n",
      " [0.00221998]]\n",
      "------------------------------------------------------------\n",
      "A1 : [[2.13860088]\n",
      " [2.18511211]]\n",
      "~~~~~~~~~~~~~~~~~~~~~~~~~~~~~~~~~~~~~~~~~~~~~~~~~~~~~~~~~~~~~~~~~~~~~~~~~~~~~~~~~~~~~~~~~~\n",
      "A1 : [[2.13860088]\n",
      " [2.18511211]]\n",
      "W2 : [[0.13830558]\n",
      " [0.13830558]]\n",
      "b2 : [[0.02035056]]\n",
      "------------------------------------------------------------\n",
      "A2 : [[0.6183442]]\n",
      "~~~~~~~~~~~~~~~~~~~~~~~~~~~~~~~~~~~~~~~~~~~~~~~~~~~~~~~~~~~~~~~~~~~~~~~~~~~~~~~~~~~~~~~~~~\n",
      "0.618344203004094\n",
      "A1 is : [[2.13860088]\n",
      " [2.18511211]]\n",
      "Parameters: {'w1': array([[0.13104449, 0.14068939],\n",
      "       [0.13104449, 0.14068939]]), 'b1': array([[0.00398522],\n",
      "       [0.00398522]]), 'w2': array([[0.16560121],\n",
      "       [0.16619485]]), 'b2': array([[0.03311387]])}\n"
     ]
    }
   ],
   "source": [
    "X = df[['cgpa','score']].values[2].reshape(2,1)\n",
    "y = df['package'].values[2]\n",
    "\n",
    "y_hat,A1 = L_layer_forward(X,parameters)\n",
    "y_hat = y_hat[0][0]\n",
    "print(y_hat)\n",
    "print(f\"A1 is : {A1}\")\n",
    "upd_params(parameters,y,y_hat,A1,X)\n",
    "print(f\"Parameters: {parameters}\")"
   ]
  },
  {
   "cell_type": "code",
   "execution_count": 155,
   "id": "f7e9877d-e323-4087-8a4b-f0366c824552",
   "metadata": {},
   "outputs": [
    {
     "name": "stdout",
     "output_type": "stream",
     "text": [
      "A0 : [[ 7]\n",
      " [12]]\n",
      "W1 : [[0.13104449 0.14068939]\n",
      " [0.13104449 0.14068939]]\n",
      "b1 : [[0.00398522]\n",
      " [0.00398522]]\n",
      "------------------------------------------------------------\n",
      "A1 : [[2.4938305 ]\n",
      " [2.67708371]]\n",
      "~~~~~~~~~~~~~~~~~~~~~~~~~~~~~~~~~~~~~~~~~~~~~~~~~~~~~~~~~~~~~~~~~~~~~~~~~~~~~~~~~~~~~~~~~~\n",
      "A1 : [[2.4938305 ]\n",
      " [2.67708371]]\n",
      "W2 : [[0.16560121]\n",
      " [0.16619485]]\n",
      "b2 : [[0.03311387]]\n",
      "------------------------------------------------------------\n",
      "A2 : [[0.89101275]]\n",
      "~~~~~~~~~~~~~~~~~~~~~~~~~~~~~~~~~~~~~~~~~~~~~~~~~~~~~~~~~~~~~~~~~~~~~~~~~~~~~~~~~~~~~~~~~~\n",
      "0.8910127486042558\n",
      "A1 is : [[2.4938305 ]\n",
      " [2.67708371]]\n",
      "Parameters: {'w1': array([[0.14752609, 0.16894356],\n",
      "       [0.14758517, 0.16904484]]), 'b1': array([[0.00633973],\n",
      "       [0.00634817]]), 'w2': array([[0.20105843],\n",
      "       [0.20425756]]), 'b2': array([[0.04733184]])}\n"
     ]
    }
   ],
   "source": [
    "X = df[['cgpa','score']].values[3].reshape(2,1)\n",
    "y = df['package'].values[3]\n",
    "\n",
    "y_hat,A1 = L_layer_forward(X,parameters)\n",
    "y_hat = y_hat[0][0]\n",
    "print(y_hat)\n",
    "print(f\"A1 is : {A1}\")\n",
    "upd_params(parameters,y,y_hat,A1,X)\n",
    "print(f\"Parameters: {parameters}\")"
   ]
  },
  {
   "cell_type": "markdown",
   "id": "aca0b87f-62fd-4c58-bbb3-9c3cffc8feb0",
   "metadata": {},
   "source": [
    "### The above code is for 1 epoch like that we have to do many epochs for minimum loss "
   ]
  },
  {
   "cell_type": "markdown",
   "id": "2ec5cc4d-55d3-4fe9-a02e-29ca93c74099",
   "metadata": {},
   "source": [
    "#### executing all code at one place"
   ]
  },
  {
   "cell_type": "code",
   "execution_count": 156,
   "id": "40a35086-77a2-46d9-a6dd-b1e829e0c834",
   "metadata": {},
   "outputs": [],
   "source": [
    "def init(dims):\n",
    "    np.random.seed(4)\n",
    "    params = {}\n",
    "    l = len(dims)\n",
    "\n",
    "    for i in range(1,l):\n",
    "        params['w'+str(i)]= np.ones((dims[i-1],dims[i]))*0.1\n",
    "        params['b'+str(i)] = np.zeros((dims[i],1))\n",
    "    return params\n",
    "    \n",
    "def lin_forw(A_prev,w,b):\n",
    "    z = np.dot(w.T,A_prev)+b\n",
    "    return z\n",
    "def L_layer_forward(X,params):\n",
    "    A=X\n",
    "    L = len(params)//2\n",
    "    for l in range(1,L+1):\n",
    "        A_prev = A\n",
    "        w1 = params['w'+str(l)]\n",
    "        b1 = params['b'+str(l)]\n",
    "        A = lin_forw(A_prev,w1,b1)\n",
    "    return A,A_prev    "
   ]
  },
  {
   "cell_type": "code",
   "execution_count": 157,
   "id": "35fcad38-74e2-4916-bde1-6549476707d4",
   "metadata": {},
   "outputs": [
    {
     "name": "stdout",
     "output_type": "stream",
     "text": [
      "Epoch 1 loss- 35.85803704527892\n",
      "Epoch 2 loss- 23.266957511558484\n",
      "Epoch 3 loss- 7.928155473447658\n",
      "Epoch 4 loss- 1.6029981869679724\n",
      "Epoch 5 loss- 1.212481355231775\n",
      "Epoch 6 loss- 1.3453243319750443\n",
      "Epoch 7 loss- 1.3853174838384565\n",
      "Epoch 8 loss- 1.3944020199777294\n",
      "Epoch 9 loss- 1.397035284623935\n",
      "Epoch 10 loss- 1.398490698499606\n",
      "Epoch 11 loss- 1.399808465066595\n",
      "Epoch 12 loss- 1.4011898707498134\n",
      "Epoch 13 loss- 1.4026735053495045\n",
      "Epoch 14 loss- 1.404266623095727\n",
      "Epoch 15 loss- 1.4059704855428352\n"
     ]
    }
   ],
   "source": [
    "params = init([2,2,1])\n",
    "\n",
    "for i in range(15):\n",
    "    loss = []\n",
    "    for k in range(df.shape[0]):\n",
    "        X = df[['cgpa','score']].values[k].reshape(2,1)\n",
    "        y = df['package'].values[k]\n",
    "        \n",
    "        y_hat,A1 = L_layer_forward(X,params)\n",
    "        y_hat = y_hat[0][0]\n",
    "        upd_params(params,y,y_hat,A1,X)\n",
    "        \n",
    "        loss.append(((y-y_hat)**2))\n",
    "    print(f\"Epoch {i+1} loss- {np.array(loss).mean()}\")"
   ]
  },
  {
   "cell_type": "code",
   "execution_count": 158,
   "id": "a9884709-0e8a-4568-9b78-f106ac2562c8",
   "metadata": {},
   "outputs": [
    {
     "data": {
      "text/plain": [
       "{'w1': array([[0.26367527, 0.44756494],\n",
       "        [0.26732066, 0.46775164]]),\n",
       " 'b1': array([[0.02717539],\n",
       "        [0.02838018]]),\n",
       " 'w2': array([[0.47228783],\n",
       "        [0.53917713]]),\n",
       " 'b2': array([[0.11753625]])}"
      ]
     },
     "execution_count": 158,
     "metadata": {},
     "output_type": "execute_result"
    }
   ],
   "source": [
    "params"
   ]
  }
 ],
 "metadata": {
  "kernelspec": {
   "display_name": "Python 3 (ipykernel)",
   "language": "python",
   "name": "python3"
  },
  "language_info": {
   "codemirror_mode": {
    "name": "ipython",
    "version": 3
   },
   "file_extension": ".py",
   "mimetype": "text/x-python",
   "name": "python",
   "nbconvert_exporter": "python",
   "pygments_lexer": "ipython3",
   "version": "3.12.3"
  }
 },
 "nbformat": 4,
 "nbformat_minor": 5
}
