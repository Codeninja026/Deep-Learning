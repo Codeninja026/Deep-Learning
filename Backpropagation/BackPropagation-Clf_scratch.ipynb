{
 "cells": [
  {
   "cell_type": "code",
   "execution_count": 1,
   "id": "a3e74070-ab98-43d1-9836-332b9f85724a",
   "metadata": {},
   "outputs": [],
   "source": [
    "import numpy as np\n",
    "import pandas as pd"
   ]
  },
  {
   "cell_type": "code",
   "execution_count": 4,
   "id": "e6b4422b-4861-4b0b-a7e5-ef158ba58d01",
   "metadata": {},
   "outputs": [],
   "source": [
    "df = pd.DataFrame([[9,9,1],[8,10,1],[7,5,0],[7,6,0]],columns=['cgpa','score','placed'])"
   ]
  },
  {
   "cell_type": "code",
   "execution_count": 5,
   "id": "5b68cc1c-78a8-4a01-9a97-a1a7a19bc5f9",
   "metadata": {},
   "outputs": [
    {
     "data": {
      "text/html": [
       "<div>\n",
       "<style scoped>\n",
       "    .dataframe tbody tr th:only-of-type {\n",
       "        vertical-align: middle;\n",
       "    }\n",
       "\n",
       "    .dataframe tbody tr th {\n",
       "        vertical-align: top;\n",
       "    }\n",
       "\n",
       "    .dataframe thead th {\n",
       "        text-align: right;\n",
       "    }\n",
       "</style>\n",
       "<table border=\"1\" class=\"dataframe\">\n",
       "  <thead>\n",
       "    <tr style=\"text-align: right;\">\n",
       "      <th></th>\n",
       "      <th>cgpa</th>\n",
       "      <th>score</th>\n",
       "      <th>placed</th>\n",
       "    </tr>\n",
       "  </thead>\n",
       "  <tbody>\n",
       "    <tr>\n",
       "      <th>0</th>\n",
       "      <td>9</td>\n",
       "      <td>9</td>\n",
       "      <td>1</td>\n",
       "    </tr>\n",
       "    <tr>\n",
       "      <th>1</th>\n",
       "      <td>8</td>\n",
       "      <td>10</td>\n",
       "      <td>1</td>\n",
       "    </tr>\n",
       "    <tr>\n",
       "      <th>2</th>\n",
       "      <td>7</td>\n",
       "      <td>5</td>\n",
       "      <td>0</td>\n",
       "    </tr>\n",
       "    <tr>\n",
       "      <th>3</th>\n",
       "      <td>7</td>\n",
       "      <td>6</td>\n",
       "      <td>0</td>\n",
       "    </tr>\n",
       "  </tbody>\n",
       "</table>\n",
       "</div>"
      ],
      "text/plain": [
       "   cgpa  score  placed\n",
       "0     9      9       1\n",
       "1     8     10       1\n",
       "2     7      5       0\n",
       "3     7      6       0"
      ]
     },
     "execution_count": 5,
     "metadata": {},
     "output_type": "execute_result"
    }
   ],
   "source": [
    "df"
   ]
  },
  {
   "cell_type": "code",
   "execution_count": 6,
   "id": "fcb92689-4954-44f6-93ae-203268e05873",
   "metadata": {},
   "outputs": [],
   "source": [
    "def init(dims):\n",
    "    np.random.seed(4)\n",
    "    params = {}\n",
    "    l = len(dims)\n",
    "\n",
    "    for i in range(1,l):\n",
    "        params['w'+str(i)]= np.ones((dims[i-1],dims[i]))*0.1\n",
    "        params['b'+str(i)] = np.zeros((dims[i],1))\n",
    "\n",
    "    return params"
   ]
  },
  {
   "cell_type": "code",
   "execution_count": 7,
   "id": "9ef50b10-1155-48f4-8c09-861ad76a4043",
   "metadata": {},
   "outputs": [],
   "source": [
    "def sigmoid(z):\n",
    "    s = 1 / (1+np.exp(-z))\n",
    "    return s"
   ]
  },
  {
   "cell_type": "code",
   "execution_count": 8,
   "id": "d7abcb55-1b94-49f6-8cc8-d851bd80d49f",
   "metadata": {},
   "outputs": [],
   "source": [
    "def lin_forw(A_prev,w,b):\n",
    "    z = np.dot(w.T,A_prev)+b\n",
    "    s = sigmoid(z)\n",
    "    return s\n",
    "def L_layer_forward(X,params):\n",
    "    A=X\n",
    "    L = len(params)//2\n",
    "\n",
    "    for l in range(1,L+1):\n",
    "        A_prev = A\n",
    "        w1 = params['w'+str(l)]\n",
    "        b1 = params['b'+str(l)]\n",
    "\n",
    "        print(f\"A{str(l-1)} : {A_prev}\")\n",
    "        print(f\"W{str(l)} : {w1}\")\n",
    "        print(f\"b{str(l)} : {b1}\")\n",
    "        print(\"----\"*15)\n",
    "\n",
    "        A = lin_forw(A_prev,w1,b1)\n",
    "        print(f\"A{str(l)} : {A}\")\n",
    "        print(\"~~~\"*30)\n",
    "\n",
    "    return A,A_prev\n",
    "    "
   ]
  },
  {
   "cell_type": "code",
   "execution_count": 9,
   "id": "89776064-1af0-47b1-ad3a-06daeed0ef79",
   "metadata": {},
   "outputs": [],
   "source": [
    "# - x - = + (in formula of gd,That's why we add)\n",
    "def upd_params(params,y,y_hat,A1,x,lr=0.001):\n",
    "    params['w1'][0][0] = params['w1'][0][0] + (lr * (y-y_hat) * params['w2'][0][0]* A1[0][0]*(1-A1[0][0])*x[0][0])\n",
    "    params['w1'][0][1] = params['w1'][0][1] + (lr * 2 * (y-y_hat) * params['w2'][0][0]* A1[0][0]*(1-A1[0][0])*x[1][0])\n",
    "    params['b1'][0][0] = params['b1'][0][0] + (lr * 2 * (y-y_hat) * params['w2'][0][0] * A1[0][0]*(1-A1[0][0]))\n",
    "\n",
    "    params['w1'][1][0] = params['w1'][1][0] + (lr * (y-y_hat) * params['w2'][1][0]* A1[1][0]*(1-A1[1][0])*x[0][0])\n",
    "    params['w1'][1][1] = params['w1'][1][1] + (lr * (y-y_hat) * params['w2'][1][0]* A1[1][0]*(1-A1[1][0])*x[1][0])\n",
    "    params['b1'][1][0] = params['b1'][1][0] + (lr * (y-y_hat) * params['w2'][1][0]*A1[1][0]*(1-A1[1][0]))\n",
    "\n",
    "    params['w2'][0][0]= params['w2'][0][0] + (lr * (y-y_hat) * A1[0][0])\n",
    "    params['w2'][1][0]= params['w2'][1][0] + (lr * (y-y_hat) * A1[1][0])\n",
    "    params['b2'][0][0]= params['b2'][0][0] +(lr * (y-y_hat))\n",
    "    "
   ]
  },
  {
   "cell_type": "code",
   "execution_count": 10,
   "id": "75e4ddb2-0db6-4a1e-b620-68e18ada6523",
   "metadata": {},
   "outputs": [
    {
     "name": "stdout",
     "output_type": "stream",
     "text": [
      "[[9]\n",
      " [9]]\n",
      "1\n"
     ]
    }
   ],
   "source": [
    "X = df[['cgpa','score']].values[0].reshape(2,1)\n",
    "y = df['placed'].values[0]\n",
    "print(X)\n",
    "print(y)"
   ]
  },
  {
   "cell_type": "code",
   "execution_count": 11,
   "id": "1f0503ed-b67c-4b6a-8ad9-d4734cb935d6",
   "metadata": {},
   "outputs": [
    {
     "name": "stdout",
     "output_type": "stream",
     "text": [
      "A0 : [[9]\n",
      " [9]]\n",
      "W1 : [[0.1 0.1]\n",
      " [0.1 0.1]]\n",
      "b1 : [[0.]\n",
      " [0.]]\n",
      "------------------------------------------------------------\n",
      "A1 : [[0.85814894]\n",
      " [0.85814894]]\n",
      "~~~~~~~~~~~~~~~~~~~~~~~~~~~~~~~~~~~~~~~~~~~~~~~~~~~~~~~~~~~~~~~~~~~~~~~~~~~~~~~~~~~~~~~~~~\n",
      "A1 : [[0.85814894]\n",
      " [0.85814894]]\n",
      "W2 : [[0.1]\n",
      " [0.1]]\n",
      "b2 : [[0.]]\n",
      "------------------------------------------------------------\n",
      "A2 : [[0.54280243]]\n",
      "~~~~~~~~~~~~~~~~~~~~~~~~~~~~~~~~~~~~~~~~~~~~~~~~~~~~~~~~~~~~~~~~~~~~~~~~~~~~~~~~~~~~~~~~~~\n",
      "0.5428024298084342\n",
      "A1 is : [[0.85814894]\n",
      " [0.85814894]]\n"
     ]
    }
   ],
   "source": [
    "params= init([2,2,1])\n",
    "\n",
    "y_hat,A1 = L_layer_forward(X,params)\n",
    "y_hat = y_hat[0][0]\n",
    "print(y_hat)\n",
    "print(f\"A1 is : {A1}\")"
   ]
  },
  {
   "cell_type": "code",
   "execution_count": 14,
   "id": "a6b99c8d-e50e-4bb4-ad0b-a9925b2e0fbc",
   "metadata": {},
   "outputs": [
    {
     "name": "stdout",
     "output_type": "stream",
     "text": [
      "loss1:  0.6110098745973335\n",
      "{'w1': array([[0.10010037, 0.10020075],\n",
      "       [0.10010037, 0.10010037]]), 'b1': array([[2.23054147e-05],\n",
      "       [1.11527074e-05]]), 'w2': array([[0.10078469],\n",
      "       [0.10078469]]), 'b2': array([[0.0009144]])}\n"
     ]
    }
   ],
   "source": [
    "upd_params(params,y,y_hat,A1,X)\n",
    "\n",
    "loss_ = -y*(np.log(y_hat)- (1-y)*(np.log(1-y_hat)))\n",
    "print(f\"loss1: \",loss_)\n",
    "print(params)"
   ]
  },
  {
   "cell_type": "markdown",
   "id": "a69145a5-c886-42e1-a7ce-1dd162c4d7ae",
   "metadata": {},
   "source": [
    "#### first epoch - Like that we do with every student (in our case 4 students) \n",
    "#### Do again and again until we reach epoch count "
   ]
  },
  {
   "cell_type": "markdown",
   "id": "5f53fe2e-5463-4a54-9969-27916bf14757",
   "metadata": {},
   "source": [
    "## Executing all code at one place"
   ]
  },
  {
   "cell_type": "code",
   "execution_count": 16,
   "id": "f1f1007c-6e5a-4c8b-83b3-efcf92356c98",
   "metadata": {},
   "outputs": [],
   "source": [
    "def lin_forw(A_prev,w,b):\n",
    "    z = np.dot(w.T,A_prev)+b\n",
    "    s = sigmoid(z)\n",
    "    return s\n",
    "def L_layer_forward(X,params):\n",
    "    A=X\n",
    "    L = len(params)//2\n",
    "\n",
    "    for l in range(1,L+1):\n",
    "        A_prev = A\n",
    "        w1 = params['w'+str(l)]\n",
    "        b1 = params['b'+str(l)]\n",
    "        A = lin_forw(A_prev,w1,b1)\n",
    "\n",
    "    return A,A_prev\n",
    "    "
   ]
  },
  {
   "cell_type": "code",
   "execution_count": 18,
   "id": "0dfcd9bb-f2c9-44a6-9a9f-60d605a02a62",
   "metadata": {},
   "outputs": [
    {
     "name": "stdout",
     "output_type": "stream",
     "text": [
      "Epoch 1 loss- 0.30537265420212545\n",
      "Epoch 2 loss- 0.30543295823211103\n",
      "Epoch 3 loss- 0.3054931204857373\n",
      "Epoch 4 loss- 0.30555314130099154\n",
      "Epoch 5 loss- 0.30561302101505927\n",
      "Epoch 6 loss- 0.30567275996432697\n",
      "Epoch 7 loss- 0.3057323584843835\n",
      "Epoch 8 loss- 0.3057918169100219\n",
      "Epoch 9 loss- 0.3058511355752418\n",
      "Epoch 10 loss- 0.3059103148132506\n",
      "Epoch 11 loss- 0.305969354956466\n",
      "Epoch 12 loss- 0.30602825633651765\n",
      "Epoch 13 loss- 0.30608701928424886\n",
      "Epoch 14 loss- 0.3061456441297187\n",
      "Epoch 15 loss- 0.3062041312022037\n",
      "Epoch 16 loss- 0.3062624808301999\n",
      "Epoch 17 loss- 0.3063206933414246\n",
      "Epoch 18 loss- 0.3063787690628182\n",
      "Epoch 19 loss- 0.30643670832054615\n",
      "Epoch 20 loss- 0.30649451144000084\n",
      "Epoch 21 loss- 0.306552178745803\n",
      "Epoch 22 loss- 0.3066097105618043\n",
      "Epoch 23 loss- 0.3066671072110887\n",
      "Epoch 24 loss- 0.3067243690159744\n",
      "Epoch 25 loss- 0.30678149629801543\n",
      "Epoch 26 loss- 0.3068384893780042\n",
      "Epoch 27 loss- 0.30689534857597234\n",
      "Epoch 28 loss- 0.3069520742111933\n",
      "Epoch 29 loss- 0.30700866660218395\n",
      "Epoch 30 loss- 0.3070651260667061\n",
      "Epoch 31 loss- 0.30712145292176884\n",
      "Epoch 32 loss- 0.30717764748363\n",
      "Epoch 33 loss- 0.30723371006779787\n",
      "Epoch 34 loss- 0.3072896409890333\n",
      "Epoch 35 loss- 0.30734544056135127\n",
      "Epoch 36 loss- 0.307401109098023\n",
      "Epoch 37 loss- 0.30745664691157715\n",
      "Epoch 38 loss- 0.30751205431380235\n",
      "Epoch 39 loss- 0.30756733161574834\n",
      "Epoch 40 loss- 0.3076224791277281\n",
      "Epoch 41 loss- 0.3076774971593196\n",
      "Epoch 42 loss- 0.30773238601936737\n",
      "Epoch 43 loss- 0.3077871460159846\n",
      "Epoch 44 loss- 0.3078417774565546\n",
      "Epoch 45 loss- 0.3078962806477328\n",
      "Epoch 46 loss- 0.3079506558954481\n",
      "Epoch 47 loss- 0.3080049035049053\n",
      "Epoch 48 loss- 0.308059023780586\n",
      "Epoch 49 loss- 0.3081130170262513\n",
      "Epoch 50 loss- 0.3081668835449428\n"
     ]
    },
    {
     "data": {
      "text/plain": [
       "{'w1': array([[0.09823792, 0.10041155],\n",
       "        [0.09822468, 0.10017466]]),\n",
       " 'b1': array([[-0.00074278],\n",
       "        [-0.00037171]]),\n",
       " 'w2': array([[0.09757675],\n",
       "        [0.09755312]]),\n",
       " 'b2': array([[-0.00790839]])}"
      ]
     },
     "execution_count": 18,
     "metadata": {},
     "output_type": "execute_result"
    }
   ],
   "source": [
    "params = init([2,2,1])\n",
    "\n",
    "for i in range(50):\n",
    "    loss = []\n",
    "    for k in range(df.shape[0]):\n",
    "        X = df[['cgpa','score']].values[k].reshape(2,1)\n",
    "        y = df['placed'].values[k]\n",
    "        \n",
    "        y_hat,A1 = L_layer_forward(X,params)\n",
    "        y_hat = y_hat[0][0]\n",
    "        upd_params(params,y,y_hat,A1,X)\n",
    "        \n",
    "        loss.append((-y*(np.log(y_hat)- (1-y)*(np.log(1-y_hat)))))\n",
    "    print(f\"Epoch {i+1} loss- {np.array(loss).mean()}\")\n",
    "\n",
    "params"
   ]
  }
 ],
 "metadata": {
  "kernelspec": {
   "display_name": "Python 3 (ipykernel)",
   "language": "python",
   "name": "python3"
  },
  "language_info": {
   "codemirror_mode": {
    "name": "ipython",
    "version": 3
   },
   "file_extension": ".py",
   "mimetype": "text/x-python",
   "name": "python",
   "nbconvert_exporter": "python",
   "pygments_lexer": "ipython3",
   "version": "3.12.3"
  }
 },
 "nbformat": 4,
 "nbformat_minor": 5
}
